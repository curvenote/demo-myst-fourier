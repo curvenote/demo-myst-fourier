{
 "cells": [
  {
   "cell_type": "markdown",
   "id": "6d89de92-9c50-47ef-b89f-a35f372c4dbc",
   "metadata": {},
   "source": [
    "# Fourier Series"
   ]
  },
  {
   "cell_type": "markdown",
   "id": "b8fb088a-fd05-4ddc-ab00-74c87e8a4a12",
   "metadata": {},
   "source": [
    "Fourier series are powerful function and signal representation, capable of representing\n",
    "any periodic bandlimited signal. Understanding the representation can be tricky, but is\n",
    "greatly helped by visualising individual components of the series, which is what we'll do\n",
    "here.\n",
    "\n",
    "Citing <a href=\"https://en.wikipedia.org/wiki/Fourier_series\">Wikipedia</a>: A Fourier\n",
    "series is a periodic function composed of harmonically related sinusoids comined by a\n",
    "weighted summation. With appropriate weights, one cycle (or period) of the summation can\n",
    "be made to approximate as arbitrary function in that interval, or the entire function if\n",
    "it itself is periodic.\n",
    "\n",
    "The fourier series representation of a function (Exponential Form) is given by:\n",
    "\n",
    "$$x_{T}(t)=\\sum_{n=-\\infty}^{\\infty} c_{n} e^{j n \\omega_{0} t}$$\n",
    "\n",
    "Where:\n",
    "* $\\omega_{0}$ is the fundamental frequency\n",
    "* $n$ is an integer representing the harmonics of $\\omega_{0}$\n",
    "* $c_n$ are the coefficients of the infinite series"
   ]
  },
  {
   "cell_type": "code",
   "execution_count": 1,
   "id": "f2c4b822-745f-464c-8e1c-a22457ff82e6",
   "metadata": {},
   "outputs": [],
   "source": [
    "import matplotlib.pyplot as plt\n",
    "import math\n",
    "import numpy as np\n",
    "plt.rcParams['axes.labelsize']= 'medium'"
   ]
  },
  {
   "cell_type": "markdown",
   "id": "9982f752-4ae7-4249-aa4d-28d2f2a2d27d",
   "metadata": {},
   "source": [
    "## Square Waves\n",
    "\n",
    "Let's start with an informative example - representing a Square Wave by it's fourier\n",
    "series, this is an interesting example, as how can smooth sinusoids approximate a function\n",
    "containing discrete steps?\n",
    "\n",
    "The coefficients of the fourier series for the square wave are given by the following\n",
    "expression, each coefficient $c_n$ determining the contribution of a sinusoid at the given\n",
    "frequency $n\\omega_{0}$.\n",
    "\n",
    "$$c_n = \\frac{A}{\\pi n} \\sin \\left(n \\omega_{0} \\frac{T_{p}}{2}\\right)$$"
   ]
  },
  {
   "cell_type": "markdown",
   "id": "f768eb5c-7578-4a37-9154-915e542ec8ee",
   "metadata": {},
   "source": [
    "## The Composite Signal\n",
    "\n",
    "Given the value of $\\omega_{0}$ is X, $T_p$ is X and $A$ is Y the first ($N$) will produce a function approximating the square as shown below.\n",
    "\n",
    "\n",
    "So it turns out that we need quite a lot of components to approximate the square wave well, try setting the current value of $N=$ X to the maximum of 100. The number of components has a significant impact of the final signal and we would need the full infiite series in order to converge to a true square wave with instantaneous value changes.\n",
    "\n",
    "The parameter $A$ controls amplitude and has no influence on the structure of the approximation, try changing it to see, A: X.\n",
    "\n",
    "The parameters $\\omega_{0}$ (X) and $T_p$ (X) have the greatest influence on the waveform shape, controlling the periodicity, duty cycle and rate convergence of the representation to the target waveform. try adjustuing these in tandem so see how the waveform is affected."
   ]
  },
  {
   "cell_type": "code",
   "execution_count": 6,
   "id": "19db8fa5-d3c2-4058-8d3b-d9d657edf2d8",
   "metadata": {},
   "outputs": [
    {
     "data": {
      "application/vnd.jupyter.widget-view+json": {
       "model_id": "a011762c7beb44868303add3c97bae4f",
       "version_major": 2,
       "version_minor": 0
      },
      "text/plain": [
       "VBox(children=(HTML(value='<div style=\"text-align:center;font-size:20px\">Fourier Series Playground</div>'), HB…"
      ]
     },
     "metadata": {},
     "output_type": "display_data"
    }
   ],
   "source": [
    "#| label: fig-fourier-playground\n",
    "\n",
    "import matplotlib.pyplot as plt\n",
    "import math\n",
    "import numpy as np\n",
    "import ipywidgets as ipy\n",
    "from ipywidgets import VBox, HBox\n",
    "\n",
    "\n",
    "def square_coefficients(A=1, Tp=0.5, wo=0.5, N=20):\n",
    "    rwo = wo*2*math.pi\n",
    "    return [(A/(math.pi*(n+1)))*math.sin((n+1)*rwo*(Tp/2)) for n in range(0,N)]\n",
    "\n",
    "def series(c, wo, N):\n",
    "    rwo = wo*2*math.pi\n",
    "    t = np.arange(-3*math.pi,3*math.pi,0.01)\n",
    "    X = np.zeros((N, t.shape[0]), dtype=complex)\n",
    "    for n in range(0,N):\n",
    "        X[n, :] = c[n]*np.exp(-1j*(n+1)*wo*t)\n",
    "    return t, X\n",
    "\n",
    "\n",
    "w_A = ipy.FloatSlider(value=1.0, min=0.5, max=3, step=0.5, description=\"Amplitude (A):\")\n",
    "w_Tp = ipy.FloatSlider(value=0.5, min=0.1, max=0.9, step=0.1, description=\"Mark/Space Ratio (Tp):\")\n",
    "w_wo = ipy.FloatSlider(value=0.5, min=0.1, max=2.0, step=0.1, description=\"Fundamental Frequency (wo):\")\n",
    "w_N = ipy.IntSlider(value=10, min=1, max=100, step=1, description=\"Num Components (N):\")\n",
    "\n",
    "controls = HBox([VBox([w_A, w_N]), VBox([w_Tp, w_wo])])\n",
    "\n",
    "def format_axes(ax):\n",
    "    plt.grid(True, 'major', 'y')\n",
    "    plt.axis('tight')\n",
    "    ax.set_frame_on(False)\n",
    "    ax.set_xticks([])\n",
    "    ax.set_yticklabels([])\n",
    "    \n",
    "\n",
    "def plot_coefficients(A, Tp, wo, N):\n",
    "    c = square_coefficients(A, Tp, wo, N)\n",
    "    fig, ax = plt.subplots(1,1, figsize=(12,2))\n",
    "    plt.bar(range(0,len(c)), c)\n",
    "    plt.title('coefficient series')\n",
    "    format_axes(ax)\n",
    "\n",
    "def plot_composite(A, Tp, wo, N):\n",
    "    c = square_coefficients(A, Tp, wo, N)\n",
    "    t, X = series(c, wo, N)\n",
    "    S = np.sum(X, axis=0);\n",
    "    fig, ax = plt.subplots(1,1, figsize=(12,2))\n",
    "    plt.plot(t, np.real(S))\n",
    "    plt.plot(t, np.imag(S))\n",
    "    format_axes(ax)\n",
    "    plt.title('composite signal')\n",
    "\n",
    "def plot_components(A, Tp, wo, N):\n",
    "    c = square_coefficients(A, Tp, wo, N)\n",
    "    t, X = series(c, wo, N)\n",
    "    S = np.sum(X, axis=0);\n",
    "    fig, axs = plt.subplots(2,1, figsize=(12,4))\n",
    "    axs[0].plot(t,np.real(X).T)\n",
    "    axs[0].set_title('series components')\n",
    "    axs[0].set_xlabel('real')\n",
    "    axs[1].plot(t,np.imag(X).T)\n",
    "    axs[1].set_xlabel('imaginary')\n",
    "    format_axes(axs[0])\n",
    "    format_axes(axs[1])\n",
    "    \n",
    "    \n",
    "heading = ipy.HTML(value='<div style=\"text-align:center;font-size:20px\">Fourier Series Playground</div>')\n",
    "coeff_plot = ipy.interactive_output(plot_coefficients, dict(A=w_A, Tp=w_Tp, wo=w_wo, N=w_N))\n",
    "composite_plot = ipy.interactive_output(plot_composite, dict(A=w_A, Tp=w_Tp, wo=w_wo, N=w_N))\n",
    "component_plot = ipy.interactive_output(plot_components, dict(A=w_A, Tp=w_Tp, wo=w_wo, N=w_N))\n",
    "\n",
    "ui = VBox([heading, controls, coeff_plot, composite_plot, component_plot], layout=ipy.Layout(display=\"flex\", align_items=\"center\"))\n",
    "\n",
    "display(ui)\n"
   ]
  },
  {
   "cell_type": "code",
   "execution_count": null,
   "id": "99e182f2-bde2-40c3-9ca4-36ccfc814fbf",
   "metadata": {},
   "outputs": [],
   "source": []
  },
  {
   "cell_type": "code",
   "execution_count": null,
   "id": "6e638fa6-50ed-4b75-998e-e5876c943de5",
   "metadata": {},
   "outputs": [],
   "source": []
  }
 ],
 "metadata": {
  "kernelspec": {
   "display_name": "Python 3 (ipykernel)",
   "language": "python",
   "name": "python3"
  },
  "language_info": {
   "codemirror_mode": {
    "name": "ipython",
    "version": 3
   },
   "file_extension": ".py",
   "mimetype": "text/x-python",
   "name": "python",
   "nbconvert_exporter": "python",
   "pygments_lexer": "ipython3",
   "version": "3.11.6"
  }
 },
 "nbformat": 4,
 "nbformat_minor": 5
}
